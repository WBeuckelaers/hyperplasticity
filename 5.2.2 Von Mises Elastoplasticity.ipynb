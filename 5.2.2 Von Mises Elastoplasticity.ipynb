{
 "cells": [
  {
   "cell_type": "markdown",
   "metadata": {},
   "source": [
    "# Von Mises Elastoplasticity\n",
    "\n",
    "This example gives the numerical implementation of the Von Mises elastoplasticity model (Houlsby & Puzrin, 2006)."
   ]
  },
  {
   "cell_type": "markdown",
   "metadata": {},
   "source": [
    "The Helmholtz free energy $f$ and the yield function $y$ for this model are given by:\n",
    "\n",
    "\\begin{align*}\n",
    "f = & \\frac{K}{2} (\\epsilon_{ii}-\\alpha_{ii}) (\\epsilon_{jj}-\\epsilon_{jj}) + G (\\epsilon'_{ij}-\\alpha'_{ij}) (\\epsilon'_{ij}-\\alpha'_{ij})\\\\\n",
    "y = & \\sqrt{\\chi'_{ij} \\chi'_{ij}} - k \\sqrt{2} = 0\n",
    "\\end{align*}"
   ]
  },
  {
   "cell_type": "markdown",
   "metadata": {},
   "source": [
    "For reference, the deviatoric part of a second order tensor is:\n",
    "\\begin{equation*}\n",
    "a'_{ij} = a_{ij} - \\frac{1}{3} \\delta_{ij} a_{kk}\n",
    "\\end{equation*}"
   ]
  },
  {
   "cell_type": "markdown",
   "metadata": {},
   "source": [
    "Differentiation of the energy potential gives:\n",
    "\\begin{align*}\n",
    "\\sigma_{ij} = & \\frac{\\partial f}{\\partial \\epsilon_{ij}} = K (\\epsilon_{kk}-\\alpha_{kk}) \\delta_{ij} + 2 G (\\epsilon'_{ij} - \\alpha'_{ij}) \\\\\n",
    "\\bar{\\chi}_{ij} = & - \\frac{\\partial f}{\\partial \\alpha_{ij}} = K (\\epsilon_{kk}-\\alpha_{kk}) \\delta_{ij} + 2 G (\\epsilon'_{ij} - \\alpha'_{ij})\n",
    "\\end{align*}"
   ]
  },
  {
   "cell_type": "markdown",
   "metadata": {},
   "source": [
    "Double differentiation gives:\n",
    "\\begin{align*}\n",
    "\\frac{\\partial^2 f}{\\partial \\epsilon_{ij} \\partial \\epsilon_{kl}} = &\n",
    "\\left(K - \\frac{2G}{3} \\right) \\delta_{ij} \\delta_{kl} + 2 G \\delta_{ik} \\delta_{jl} \\\\\n",
    "\\frac{\\partial^2 f}{\\partial \\epsilon_{ij} \\partial \\alpha_{kl}} = & \n",
    "-\\left(K - \\frac{2G}{3} \\right) \\delta_{ij} \\delta_{kl} + 2 G \\delta_{ik} \\delta_{jl} \\\\\n",
    "\\frac{\\partial^2 f}{\\partial \\alpha_{ij} \\partial \\epsilon_{kl}} = & \n",
    "-\\left(K - \\frac{2G}{3} \\right) \\delta_{ij} \\delta_{kl} + 2 G \\delta_{ik} \\delta_{jl} \\\\\n",
    "\\frac{\\partial^2 f}{\\partial \\alpha_{ij} \\partial \\alpha_{kl}} = & \n",
    "\\left(K - \\frac{2G}{3} \\right) \\delta_{ij} \\delta_{kl} + 2 G \\delta_{ik} \\delta_{jl}\n",
    "\\end{align*}"
   ]
  },
  {
   "cell_type": "markdown",
   "metadata": {},
   "source": [
    "Differentiation of the yield function gives:\n",
    "\\begin{equation*}\n",
    "\\frac{\\partial y}{\\partial \\chi_{ij}} = 2 S_{ij}(\\chi'_{ij})\n",
    "\\end{equation*}"
   ]
  },
  {
   "cell_type": "markdown",
   "metadata": {},
   "source": [
    "The incremental response follows from a standardised approach, which can be written in the following form:\n",
    "\n",
    "\\begin{equation*}\n",
    "\\begin{Bmatrix}\n",
    "\\dot{\\sigma}_{ij} \\\\\n",
    "-\\dot{\\bar{\\chi}}_{ij}\n",
    "\\end{Bmatrix}= \n",
    "\\begin{bmatrix}\n",
    "\\frac{\\partial^2 f}{\\partial \\epsilon_{ij} \\partial \\epsilon_{kl}} & \\frac{\\partial^2 f}{\\partial \\epsilon_{ij} \\partial \\alpha_{kl}} \\\\\n",
    "\\frac{\\partial^2 f}{\\partial \\epsilon_{ij} \\partial \\alpha_{kl}} & \\frac{\\partial^2 f}{\\partial \\alpha_{ij} \\partial \\alpha_{kl}} \\\\\n",
    "\\end{bmatrix} \n",
    "\\begin{Bmatrix}\n",
    "\\dot{\\epsilon}_{kl} \\\\\n",
    "\\dot{\\alpha}_{kl}\n",
    "\\end{Bmatrix}\n",
    "\\end{equation*}\n",
    "\n",
    "The rate of hardening strain is defined by:\n",
    "\n",
    "\\begin{equation*}\n",
    "\\dot{\\alpha}_{ij} = \\lambda \\frac{\\partial y}{\\partial \\chi_{ij}}\n",
    "\\end{equation*}\n",
    "\n",
    "where the multiplyer $\\lambda$ is derived from the consistency condition:\n",
    "\\begin{equation*}\n",
    "\\dot{y} = 0 = \\frac{\\partial y}{\\partial \\sigma_{ij}} \\dot{\\sigma} _{ij}+ \\frac{\\partial y}{\\partial \\chi_{ij}} \\dot{\\chi}_{ij} + \\frac{\\partial y}{\\partial \\alpha_{ij}} \\dot{\\alpha}_{ij}\n",
    "\\end{equation*}\n",
    "\n",
    "Combining the above equations for the one dimensional model with Ziegler's orthogonality condition ($\\chi=\\bar{\\chi}$) gives:\n",
    "\\begin{align*}\n",
    "0 = & \\frac{\\partial y}{\\partial \\chi_{ij}} \\left( \\frac{\\partial^2 f}{\\partial \\epsilon_{ij} \\partial \\alpha_{kl}} \\dot{\\epsilon}_{kl} + \\frac{\\partial^2 f}{\\partial \\alpha_{ij} \\partial \\alpha_{kl}} \\lambda \\frac{\\partial y}{\\partial \\chi_{kl}} \\right) \\\\\n",
    "\\lambda = & - \\frac{\\frac{\\partial y}{\\partial \\chi_{ij}} \\frac{\\partial^2 f}{\\partial \\epsilon_{ij} \\partial \\alpha_{kl}} }{\\frac{\\partial y}{\\partial \\chi_{ij}} \\frac{\\partial^2 f}{\\partial \\alpha_{ij} \\partial \\alpha_{kl}} \\frac{\\partial y}{\\partial \\chi_{kl}}} \\dot{\\epsilon}_{kl}\n",
    "\\end{align*}"
   ]
  },
  {
   "cell_type": "code",
   "execution_count": 1,
   "metadata": {
    "collapsed": true
   },
   "outputs": [],
   "source": [
    "import numpy as np\n",
    "import numpy.linalg as la\n",
    "import matplotlib.pyplot as plt\n",
    "%matplotlib inline"
   ]
  },
  {
   "cell_type": "code",
   "execution_count": 2,
   "metadata": {
    "collapsed": true
   },
   "outputs": [],
   "source": [
    "def yield_function(chi, k):\n",
    "    \n",
    "    delta_ij = np.transpose(np.array([[1, 0, 0, 0, 1, 0, 0, 0, 1]]))\n",
    "    delta_kl = np.transpose(delta_ij)\n",
    "    delta_ik = np.transpose(np.array([[1, 1, 1, 1, 1, 1, 1, 1, 1]]))\n",
    "    delta_jl = np.transpose(delta_ik)\n",
    "    \n",
    "    chi_dev = chi - delta_ij * np.matmul(delta_kl, chi) / 3\n",
    "    norm_chi_dev = np.sqrt(np.matmul(np.transpose(chi_dev), chi_dev))\n",
    "    \n",
    "    y = norm_chi_dev - k * np.sqrt(2)   \n",
    "    \n",
    "    if norm_chi_dev == 0:\n",
    "        d_y_d_chi = np.zeros((9,1))\n",
    "    else:\n",
    "        d_y_d_chi = 2 * chi_dev / norm_chi_dev\n",
    "        \n",
    "    return y, d_y_d_chi"
   ]
  },
  {
   "cell_type": "code",
   "execution_count": 3,
   "metadata": {},
   "outputs": [],
   "source": [
    "## The implementation of the above equations is given below\n",
    "\n",
    "# Model parameters\n",
    "K = 1\n",
    "G = 1\n",
    "k = 1\n",
    "\n",
    "# Initialise the model state parameters\n",
    "sigma = np.zeros((9,1))\n",
    "chi = np.zeros((9,1))\n",
    "alpha = np.zeros((9,1))\n",
    "epsilon_0 = np.zeros((9,1))\n",
    "\n",
    "# Define the applied strain history\n",
    "epsilon_max = 1\n",
    "theta_max = 2 * np.pi\n",
    "d_theta_abs = 0.001\n",
    "theta = np.arange(0, theta_max, d_theta_abs)\n",
    "\n",
    "epsilon_xx_history = epsilon_max * np.sin(theta)\n",
    "\n",
    "delta_ij = np.transpose(np.array([[1, 0, 0, 0, 1, 0, 0, 0, 1]]))\n",
    "delta_kl = np.transpose(delta_ij)\n",
    "delta_ik = np.transpose(np.array([[1, 1, 1, 1, 1, 1, 1, 1, 1]]))\n",
    "delta_jl = np.transpose(delta_ik)\n",
    "\n",
    "d2_f_d_e2 = (K - 2 * G / 3) * np.matmul(delta_ij, delta_kl) + 2 * G * np.matmul(delta_ik, delta_jl)\n",
    "d2_f_d_a2 =   d2_f_d_e2\n",
    "d2_f_d_ea = - d2_f_d_e2\n",
    "d2_f_d_ae = - d2_f_d_e2\n",
    "\n",
    "sigma_history = []\n",
    "epsilon_history = []\n",
    "\n",
    "# Calculate the incremental response\n",
    "for epsilon_xx in epsilon_xx_history:\n",
    "        \n",
    "    epsilon = np.transpose(np.array([[epsilon_xx, 0, 0, 0, 0, 0, 0, 0, 0]]))\n",
    "    d_epsilon = epsilon-epsilon_0\n",
    "    \n",
    "    y, d_y_d_chi = yield_function(chi, k)\n",
    "                \n",
    "    if y > 0:\n",
    "        # Perform trial elastic step\n",
    "        d_chi_trial = - np.matmul(d2_f_d_ae, d_epsilon)\n",
    "        chi_trial = chi + d_chi_trial\n",
    "        \n",
    "        y_trial, d_y_d_chi = yield_function(chi_trial, k)\n",
    "                        \n",
    "        if y_trial > y:\n",
    "            lambda_ = - np.matmul(np.matmul(np.transpose(d_y_d_chi), d2_f_d_ea)/np.matmul(np.transpose(d_y_d_chi), np.matmul(d2_f_d_a2, d_y_d_chi)), d_epsilon)\n",
    "        else:\n",
    "            lambda_ = 0\n",
    "    else:\n",
    "        lambda_ = 0\n",
    "                \n",
    "    d_alpha = lambda_ * d_y_d_chi\n",
    "        \n",
    "    d_sigma = np.matmul(d2_f_d_e2, d_epsilon) + np.matmul(d2_f_d_ea, d_alpha)\n",
    "    d_chi = -(np.matmul(d2_f_d_ae, d_epsilon) + np.matmul(d2_f_d_a2, d_alpha))\n",
    "    \n",
    "    sigma = sigma + d_sigma\n",
    "    chi = chi + d_chi\n",
    "    alpha = alpha + d_alpha\n",
    "    epsilon_0 = epsilon\n",
    "    \n",
    "    sigma_history.append(sigma)\n",
    "    epsilon_history.append(epsilon)\n",
    "    \n",
    "epsilon_history_array = np.hstack(epsilon_history)\n",
    "sigma_history_array = np.hstack(sigma_history)"
   ]
  },
  {
   "cell_type": "code",
   "execution_count": 4,
   "metadata": {
    "collapsed": true
   },
   "outputs": [],
   "source": [
    "def stress_invariants(sigma_history_array):\n",
    "        \n",
    "    n_columns = np.size(sigma_history_array,1)\n",
    "    \n",
    "    I_history = np.zeros((n_columns, 3))\n",
    "    J_history = np.zeros((n_columns, 3))\n",
    "        \n",
    "    for i in range (0, n_columns):\n",
    "        \n",
    "        sigma = sigma_history_array[:, i]\n",
    "        \n",
    "        sigma_mat = np.array([[sigma[0], sigma[1], sigma[2]],\n",
    "                              [sigma[3], sigma[4], sigma[5]],\n",
    "                              [sigma[6], sigma[7], sigma[8]]])\n",
    "                \n",
    "        I_1 = np.trace(sigma_mat)  \n",
    "        I_2 = 1 / 2 * np.linalg.norm(sigma_mat)**2  \n",
    "        I_3 = np.linalg.det(sigma_mat)\n",
    "        \n",
    "        s_mat = np.array([[sigma[0]-I_1/3, sigma[1], sigma[2]],\n",
    "                          [sigma[3], sigma[4]-I_1/3, sigma[5]],\n",
    "                          [sigma[6], sigma[7], sigma[8]-I_1/3]])\n",
    "        \n",
    "        J_1 = np.trace(s_mat)\n",
    "        J_2 = 1 / 2 * np.linalg.norm(s_mat)**2          \n",
    "        J_3 = np.linalg.det(s_mat)\n",
    "                \n",
    "        I_history[i,:] = np.array([I_1, I_2, I_3])\n",
    "        J_history[i,:] = np.array([J_1, J_2, J_3])\n",
    "                \n",
    "    return I_history, J_history"
   ]
  },
  {
   "cell_type": "code",
   "execution_count": 5,
   "metadata": {
    "collapsed": true
   },
   "outputs": [],
   "source": [
    "# Calculate the stress invariants from the output\n",
    "I_history, J_history = stress_invariants(sigma_history_array)"
   ]
  },
  {
   "cell_type": "code",
   "execution_count": 6,
   "metadata": {},
   "outputs": [
    {
     "data": {
      "text/plain": [
       "Text(0,0.5,'$\\\\sigma_{xx}$')"
      ]
     },
     "execution_count": 6,
     "metadata": {},
     "output_type": "execute_result"
    },
    {
     "data": {
      "image/png": "[encoded data removed]",
      "text/plain": [
       "<matplotlib.figure.Figure at 0x11c65eb00>"
      ]
     },
     "metadata": {},
     "output_type": "display_data"
    }
   ],
   "source": [
    "# Show the stress-strain response in the xx direction\n",
    "plt.figure(1)\n",
    "plt.plot(epsilon_history_array[0,:], sigma_history_array[0,:])\n",
    "plt.xlabel('$\\epsilon_{xx}$')\n",
    "plt.ylabel('$\\sigma_{xx}$')"
   ]
  },
  {
   "cell_type": "code",
   "execution_count": 7,
   "metadata": {},
   "outputs": [
    {
     "data": {
      "text/plain": [
       "Text(0,0.5,'$\\\\sqrt{J_2}$')"
      ]
     },
     "execution_count": 7,
     "metadata": {},
     "output_type": "execute_result"
    },
    {
     "data": {
      "image/png": "[encoded data removed]",
      "text/plain": [
       "<matplotlib.figure.Figure at 0x11ca470b8>"
      ]
     },
     "metadata": {},
     "output_type": "display_data"
    }
   ],
   "source": [
    "# This first and second stress invariant, where the Von Mises criterion is sqrt(J_2) = k\n",
    "plt.figure(3)\n",
    "plt.plot(I_history[:, 0], np.sqrt(J_history[:, 1]))\n",
    "plt.axhline(y=k, xmin=-1, xmax=1, color='r', linestyle='--')\n",
    "plt.xlabel('$I_1$')\n",
    "plt.ylabel('$\\sqrt{J_2}$')"
   ]
  }
 ],
 "metadata": {
  "kernelspec": {
   "display_name": "Python 3",
   "language": "python",
   "name": "python3"
  },
  "language_info": {
   "codemirror_mode": {
    "name": "ipython",
    "version": 3
   },
   "file_extension": ".py",
   "mimetype": "text/x-python",
   "name": "python",
   "nbconvert_exporter": "python",
   "pygments_lexer": "ipython3",
   "version": "3.6.3"
  }
 },
 "nbformat": 4,
 "nbformat_minor": 2
}
