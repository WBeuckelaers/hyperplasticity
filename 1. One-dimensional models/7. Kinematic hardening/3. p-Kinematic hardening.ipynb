{
 "cells": [
  {
   "cell_type": "markdown",
   "metadata": {},
   "source": [
    "# p-Kinematic hardening - One-dimensional example\n",
    "\n",
    "This example gives the numerical implementation of the parallel kinematic hardening model.\n",
    "\n",
    "For background, see: Houlsby et al. (2017) A model for nonlinear hysteretic and ratcheting behaviour. _International Journal of Solids and Structures_ __120__ 67-80."
   ]
  },
  {
   "cell_type": "markdown",
   "metadata": {},
   "source": [
    "The Gibbs free energy $g$ and the yield functions $y_n$ for this model are given by:\n",
    "\n",
    "\\begin{align*}\n",
    "g = & -\\frac{\\left( \\sigma + \\sum_{n=1}^{N} H_n \\alpha_n \\right)^2}{2E_0} + \\frac{1}{2} \\sum_{n=1}^N H_n \\alpha_n^2\\\\\n",
    "y_n = & \\left| \\chi_n \\right|  - k_n \n",
    "\\end{align*}"
   ]
  },
  {
   "cell_type": "markdown",
   "metadata": {},
   "source": [
    "The incremental response follows from a standardised approach, which can be written in the following form:\n",
    "\n",
    "\\begin{align*}\n",
    "-\\dot{\\epsilon} & = \\frac{\\partial^2 g}{\\partial \\sigma^2} \\dot{\\sigma} + \\sum_{n=1}^{N} \\frac{\\partial^2 g}{\\partial \\sigma \\partial \\alpha_n} \\dot{\\alpha}_n \\\\\n",
    "-\\dot{\\bar{\\chi}}_n & = \\frac{\\partial^2 g}{\\partial \\sigma \\partial \\alpha_n} \\dot{\\sigma} + \\sum_{m=1}^{N} \\frac{\\partial^2 g}{\\partial \\alpha_m \\partial \\alpha_n} \\dot{\\alpha}_n  \n",
    "\\end{align*}"
   ]
  },
  {
   "cell_type": "markdown",
   "metadata": {},
   "source": [
    "The rate of hardening strain is defined by:\n",
    "\n",
    "\\begin{equation*}\n",
    "\\dot{\\alpha}_n = \\lambda_n \\frac{\\partial y_n}{\\partial \\chi}\n",
    "\\end{equation*}\n",
    "\n",
    "where the multiplyer $\\lambda_n$ is derived from the consistency condition:\n",
    "\\begin{equation*}\n",
    "\\dot{y}_n = 0 = \\frac{\\partial y_n}{\\partial \\sigma} \\dot{\\sigma} + \\sum_{m=1}^N \\frac{\\partial y_n}{\\partial \\chi_m} \\dot{\\chi_m} + \\sum_{m=1}^N \\frac{\\partial y_n}{\\partial \\alpha_m} \\dot{\\alpha_m} \n",
    "\\end{equation*}\n",
    "\n",
    "Combining the above equations for the one dimensional model with Ziegler's orthogonality condition ($\\chi_n=\\bar{\\chi}_n$), and substituting $\\frac{\\partial y_n}{\\partial \\chi_m}=0$ for $m \\neq n$, gives:\n",
    "\\begin{align*}\n",
    "0 = & - \\frac{\\partial y_n}{\\partial \\chi_n} \\left( \\frac{\\partial^2 g}{\\partial \\sigma \\partial \\alpha_n} \\dot{\\sigma} + \\sum_{m=1}^N \\frac{\\partial^2 g}{\\partial \\alpha_n \\alpha_m} \\lambda_m \\frac{\\partial y_m}{\\partial \\chi_m} \\right) \n",
    "\\end{align*}"
   ]
  },
  {
   "cell_type": "code",
   "execution_count": 1,
   "metadata": {
    "collapsed": true
   },
   "outputs": [],
   "source": [
    "import numpy as np\n",
    "import numpy.linalg as la\n",
    "import matplotlib.pyplot as plt\n",
    "%matplotlib inline\n",
    "from discretise_kinematic_hardening import discretise_kinematic_hardening_parallel"
   ]
  },
  {
   "cell_type": "code",
   "execution_count": 2,
   "metadata": {},
   "outputs": [],
   "source": [
    "# The implementation of the above equations is given below\n",
    "\n",
    "# Model parameters\n",
    "sigma_backbone = np.array([0.2, 0.4, 0.6, 0.8, 1])\n",
    "epsilon_backbone = np.array([0.2, 0.6, 1.2, 2.0, 3.0])\n",
    "\n",
    "k_n, H_n = discretise_kinematic_hardening_parallel(sigma_backbone, epsilon_backbone)\n",
    "k_n = np.asarray(np.transpose(np.matrix(k_n)))\n",
    "H_n = np.asarray(np.transpose(np.matrix(H_n)))\n",
    "\n",
    "E_0 = np.sum(H_n)\n",
    "\n",
    "# Initialise the model state parameters\n",
    "epsilon = 0\n",
    "chi_n = np.zeros_like(H_n)\n",
    "alpha_n = np.zeros_like(H_n)\n",
    "\n",
    "# Define the applied stress history\n",
    "sigma_max_abs_1 = 0.9\n",
    "sigma_max_abs_2 = 0\n",
    "\n",
    "d_sigma_abs = 0.002\n",
    "\n",
    "sigma_loop = np.append(np.arange(0, sigma_max_abs_1, d_sigma_abs), \n",
    "                np.arange(sigma_max_abs_1, -sigma_max_abs_2, -d_sigma_abs))\n",
    "\n",
    "sigma_history = np.tile(sigma_loop, 10)\n",
    "epsilon_history = np.zeros(len(sigma_history))\n",
    "\n",
    "d2_g_d_s2 = -1/E_0\n",
    "d2_g_d_an2 = -np.matmul(H_n, np.transpose(H_n))/(E_0) + np.diag(H_n[:,0])\n",
    "d2_g_d_san = -np.transpose(H_n) / E_0\n",
    "d2_g_d_ans = -H_n / E_0\n",
    "\n",
    "sigma_0 = 0\n",
    "\n",
    "# Calculate the incremental response\n",
    "for index, sigma in enumerate(sigma_history):\n",
    "        \n",
    "    d_sigma = sigma - sigma_0\n",
    "            \n",
    "    y_n = np.abs(chi_n) - k_n\n",
    "    d_y_n_d_chi_n = np.sign(chi_n)\n",
    "    \n",
    "    # Solve A * lambda_n = b\n",
    "    b = np.zeros_like(H_n)\n",
    "    A = np.zeros_like(d2_g_d_an2)\n",
    "    lambda_n = np.zeros_like(H_n)\n",
    "    for i_y in range(0,len(H_n)):\n",
    "        b[i_y,0] = - d_y_n_d_chi_n[i_y] * d2_g_d_ans[i_y] * d_sigma\n",
    "        A[i_y,:] = d_y_n_d_chi_n[i_y] * d2_g_d_an2[i_y,:] * np.transpose(d_y_n_d_chi_n)\n",
    "        \n",
    "    y_active = ((y_n>0) * (d_sigma*d_y_n_d_chi_n>0))[:,0]\n",
    "    if np.sum(y_active) > 0:\n",
    "        lambda_active = la.solve(A[y_active,:][:,y_active], b[y_active])\n",
    "        lambda_n[y_active] = lambda_active\n",
    "                \n",
    "    d_alpha_n = lambda_n * d_y_n_d_chi_n\n",
    "        \n",
    "    d_epsilon = - (d2_g_d_s2 * d_sigma + np.matmul(d2_g_d_san, d_alpha_n))\n",
    "    d_chi_n = - (d2_g_d_ans * d_sigma + np.matmul(d2_g_d_an2, d_alpha_n))\n",
    "            \n",
    "    epsilon = epsilon + d_epsilon\n",
    "    chi_n = chi_n + d_chi_n\n",
    "    alpha_n = alpha_n + d_alpha_n\n",
    "    \n",
    "    sigma_0 = sigma\n",
    "            \n",
    "    epsilon_history[index] = epsilon   "
   ]
  },
  {
   "cell_type": "code",
   "execution_count": 3,
   "metadata": {
    "scrolled": false
   },
   "outputs": [
    {
     "data": {
      "text/plain": [
       "Text(0,0.5,'$\\\\sigma$')"
      ]
     },
     "execution_count": 3,
     "metadata": {},
     "output_type": "execute_result"
    },
    {
     "data": {
      "image/png": "[encoded data removed]",
      "text/plain": [
       "<matplotlib.figure.Figure at 0x1057251d0>"
      ]
     },
     "metadata": {},
     "output_type": "display_data"
    }
   ],
   "source": [
    "plt.plot(epsilon_history, sigma_history)\n",
    "plt.xlabel('$\\epsilon$')\n",
    "plt.ylabel('$\\sigma$')"
   ]
  }
 ],
 "metadata": {
  "kernelspec": {
   "display_name": "Python 3",
   "language": "python",
   "name": "python3"
  },
  "language_info": {
   "codemirror_mode": {
    "name": "ipython",
    "version": 3
   },
   "file_extension": ".py",
   "mimetype": "text/x-python",
   "name": "python",
   "nbconvert_exporter": "python",
   "pygments_lexer": "ipython3",
   "version": "3.6.3"
  }
 },
 "nbformat": 4,
 "nbformat_minor": 2
}
