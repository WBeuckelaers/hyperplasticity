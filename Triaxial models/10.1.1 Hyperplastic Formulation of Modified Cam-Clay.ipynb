{
 "cells": [
  {
   "cell_type": "markdown",
   "metadata": {},
   "source": [
    "# 10.1.1 Hyperplastic Formulation of Modified Cam-Clay\n",
    "\n",
    "This example gives the numerical implementation for the hyperplastic formulation of the Modified Cam-Clay model (Houlsby & Puzrin, 2006)."
   ]
  },
  {
   "cell_type": "markdown",
   "metadata": {},
   "source": [
    "The Gibbs free energy $g$ and the yield function $y$ for this model are given by:\n",
    "\n",
    "\\begin{align*}\n",
    "g = & - \\kappa p \\left( \\log \\left( \\frac{p}{p_0} \\right) -1\\right) - \\frac{q^2}{6G} - (p \\alpha_p + q \\alpha_q) + (\\Lambda - \\kappa) p_{x0} \\exp \\left( \\frac{\\alpha_p}{\\Lambda - \\kappa} \\right) \\\\\n",
    "y = & \\chi_p^2 + \\frac{\\chi_q^2}{M^2} - \\left( p_{x0} \\exp \\left( \\frac{\\alpha_p}{\\Lambda - \\kappa} \\right) \\right)^2 = 0\n",
    "\\end{align*}"
   ]
  },
  {
   "cell_type": "markdown",
   "metadata": {},
   "source": [
    "The incremental response for this model can be written as follows:\n",
    "\n",
    "\\begin{align*}\n",
    "-\\dot{\\epsilon}_p = & \\frac{\\partial^2 g}{\\partial p^2} \\dot{p} \\; {\\color{red}{ + \\frac{\\partial^2 g}{\\partial p \\partial q} \\dot{q} }} + \\frac{\\partial^2 g}{\\partial p \\partial \\alpha_p} \\dot{\\alpha}_p {\\color{red}{ + \\frac{\\partial^2 g}{\\partial p \\partial \\alpha_q} \\dot{\\alpha}_q }}\\\\\n",
    "-\\dot{\\epsilon}_q = & {\\color{red}{ \\frac{\\partial^2 g}{\\partial q \\partial p} \\dot{p} }} + \\frac{\\partial^2 g}{\\partial q^2} \\dot{q} \\;{\\color{red}{ + \\frac{\\partial^2 g}{\\partial q \\partial \\alpha_p} \\dot{\\alpha}_p }} + \\frac{\\partial^2 g}{\\partial q \\partial \\alpha_q} \\dot{\\alpha}_q\\\\\n",
    "-\\dot{\\chi}_p = & \\frac{\\partial^2 g}{\\alpha_p \\partial p} \\dot{p} \\; {\\color{red}{ + \\frac{\\partial^2 g}{\\partial \\alpha_p \\partial q} \\dot{q} }} + \\frac{\\partial^2 g}{\\partial \\alpha_p^2} \\dot{\\alpha}_p  {\\color{red}{ + \\frac{\\partial^2 g}{\\partial \\alpha_p \\partial \\alpha_q} \\dot{\\alpha}_q }}\\\\\n",
    "-\\dot{\\chi}_q = & {\\color{red}{ \\frac{\\partial^2 g}{\\alpha_q \\partial p} \\dot{p} }} + \\frac{\\partial^2 g}{\\partial \\alpha_q \\partial q} \\dot{q} \\; {\\color{red}{ + \\frac{\\partial^2 g}{\\partial \\alpha_q \\partial \\alpha_p} \\dot{\\alpha}_p + \\frac{\\partial^2 g}{\\partial \\alpha_q^2} \\dot{\\alpha}_q }}\n",
    "\\end{align*}"
   ]
  },
  {
   "cell_type": "markdown",
   "metadata": {},
   "source": [
    "The rate of hardening strain is defined by:\n",
    "\n",
    "\\begin{align*}\n",
    "\\dot{\\alpha}_p =  & \\lambda \\frac{\\partial y}{\\partial \\chi_p} \\\\\n",
    "\\dot{\\alpha}_q =  & \\lambda \\frac{\\partial y}{\\partial \\chi_q} \\\\\n",
    "\\end{align*}\n",
    "\n",
    "where the multiplyer $\\lambda$ is derived from the consistency condition:\n",
    "\\begin{equation*}\n",
    "\\dot{y} = 0 = {\\color{red}{ \\frac{\\partial y}{\\partial p} \\dot{p} + \\frac{\\partial y}{\\partial q} \\dot{q} }} + \\frac{\\partial y}{\\partial \\chi_p} \\dot{\\chi}_p + \\frac{\\partial y}{\\partial \\chi_q} \\dot{\\chi}_q + \\frac{\\partial y}{\\partial \\alpha_p} \\dot{\\alpha}_p \\; {\\color{red}{ + \\frac{\\partial y}{\\partial \\alpha_q} \\dot{\\alpha}_q }}\n",
    "\\end{equation*}"
   ]
  },
  {
   "cell_type": "markdown",
   "metadata": {},
   "source": [
    "Combining the above equations with Ziegler's orthogonality condition ($\\chi=\\bar{\\chi}$) gives:\n",
    "\\begin{align*}\n",
    "0 = & -\\frac{\\partial y}{\\partial \\chi_p} \\left( \\frac{\\partial^2 g}{\\alpha_p \\partial p} \\dot{p} + \\frac{\\partial^2 g}{\\partial \\alpha_p^2} \\lambda \\frac{\\partial y}{\\partial \\chi_p} \\right) - \\frac{\\partial y}{\\partial \\chi_q} \\frac{\\partial^2 g}{\\partial \\alpha_q \\partial q} \\dot{q} + \\frac{\\partial y}{\\partial \\alpha_p} \\lambda \\frac{\\partial y}{\\partial \\chi_p} \n",
    "\\end{align*}"
   ]
  },
  {
   "cell_type": "markdown",
   "metadata": {},
   "source": [
    "\\begin{align*}\n",
    "\\lambda = &  \\frac{ \\frac{\\partial y}{\\partial \\chi_p} \\frac{\\partial^2 g}{\\alpha_p \\partial p} \\dot{p} + \\frac{\\partial y}{\\partial \\chi_q} \\frac{\\partial^2 g}{\\partial \\alpha_q \\partial q} \\dot{q}} {\\frac{\\partial y}{\\partial \\alpha_p} \\frac{\\partial y}{\\partial \\chi_p} -\\frac{\\partial y}{\\partial \\chi_p} \\frac{\\partial^2 g}{\\partial \\alpha_p^2} \\frac{\\partial y}{\\partial \\chi_p}}\n",
    "\\end{align*}"
   ]
  },
  {
   "cell_type": "code",
   "execution_count": 1,
   "metadata": {},
   "outputs": [],
   "source": [
    "# The implementation of the above equations is given below\n",
    "import numpy as np\n",
    "import matplotlib.pyplot as plt\n",
    "%matplotlib inline\n",
    "\n",
    "# Model parameters\n",
    "G = 10\n",
    "M = 1/2\n",
    "\n",
    "kappa = 0.002\n",
    "Lambda = 0.01\n",
    "p_x0 = 1\n",
    "\n",
    "# Define the applied stress history\n",
    "p_init = 0.1\n",
    "p_max_abs_1 = 20\n",
    "d_p_abs = 0.01\n",
    "\n",
    "p_history = np.arange(p_init, p_max_abs_1, d_p_abs)\n",
    "q_history = 0 * p_history\n",
    "\n",
    "indices = np.arange(0,len(p_history))\n",
    "\n",
    "epsilon_p_history = np.zeros_like(p_history)\n",
    "epsilon_q_history = np.zeros_like(q_history)\n",
    "\n",
    "# Initialise the model state parameters\n",
    "epsilon_p = 0\n",
    "epsilon_q = 0\n",
    "chi_p = p_history[0]\n",
    "chi_q = q_history[0]\n",
    "alpha_p = 0\n",
    "alpha_q = 0\n",
    "\n",
    "p_old = p_history[0]\n",
    "q_old = q_history[0]\n",
    "\n",
    "# Calculate the incremental response\n",
    "for index, p, q in zip(indices, p_history, q_history):\n",
    "    \n",
    "    d_p = p - p_old\n",
    "    d_q = q - q_old\n",
    "    \n",
    "    d2_g_d_p2  = -kappa / p\n",
    "    d2_g_d_pap = -1\n",
    "    d2_g_d_app = -1\n",
    "    d2_g_d_ap2 = p_x0*np.exp(alpha_p/(Lambda-kappa))/(Lambda-kappa)\n",
    "\n",
    "    d2_g_d_q2  = -1/(3*G)\n",
    "    d2_g_d_qaq = -1\n",
    "    d2_g_d_aqq = -1\n",
    "      \n",
    "    y = chi_p**2 + chi_q**2 / M**2 - (p_x0 * np.exp(alpha_p/(Lambda-kappa)))**2\n",
    "    \n",
    "    d_y_d_chi_p = 2 * chi_p\n",
    "    d_y_d_chi_q = 2 * chi_q / M**2\n",
    "    d_y_d_alpha_p = - 2 * p_x0**2 * np.exp(2*alpha_p/(Lambda-kappa)) / (Lambda-kappa)\n",
    "    \n",
    "    if y > 0 and (d_p * d_y_d_chi_p + d_q * d_y_d_chi_q) > 0:\n",
    "        _lambda = (d_y_d_chi_p * d2_g_d_app * d_p + d_y_d_chi_q * d2_g_d_aqq * d_q)/(d_y_d_alpha_p * d_y_d_chi_p - d_y_d_chi_p * d2_g_d_ap2 * d_y_d_chi_p)\n",
    "    else:\n",
    "        _lambda = 0\n",
    "                \n",
    "    d_alpha_p = _lambda * d_y_d_chi_p\n",
    "    d_alpha_q = _lambda * d_y_d_chi_q\n",
    "        \n",
    "    d_epsilon_p = - (d2_g_d_p2 * d_p + d2_g_d_pap * d_alpha_p)\n",
    "    d_epsilon_q = - (d2_g_d_q2 * d_q + d2_g_d_qaq * d_alpha_q)\n",
    "    \n",
    "    d_chi_p = - (d2_g_d_app * d_p + d2_g_d_ap2 * d_alpha_p)\n",
    "    d_chi_q = - (d2_g_d_aqq * d_q)\n",
    "        \n",
    "    epsilon_p = epsilon_p + d_epsilon_p\n",
    "    epsilon_q = epsilon_q + d_epsilon_q\n",
    "    chi_p = chi_p + d_chi_p\n",
    "    chi_q = chi_q + d_chi_q\n",
    "    alpha_p = alpha_p + d_alpha_p\n",
    "    alpha_q = alpha_q + d_alpha_q\n",
    "    \n",
    "    p_old = p\n",
    "    q_old = q\n",
    "            \n",
    "    epsilon_p_history[index] = epsilon_p\n",
    "    epsilon_q_history[index] = epsilon_q"
   ]
  },
  {
   "cell_type": "code",
   "execution_count": 2,
   "metadata": {
    "scrolled": false
   },
   "outputs": [
    {
     "data": {
      "text/plain": [
       "Text(0,0.5,'log($V$)')"
      ]
     },
     "execution_count": 2,
     "metadata": {},
     "output_type": "execute_result"
    },
    {
     "data": {
      "image/png": "[encoded data removed]",
      "text/plain": [
       "<matplotlib.figure.Figure at 0x1075cb080>"
      ]
     },
     "metadata": {},
     "output_type": "display_data"
    }
   ],
   "source": [
    "V_0 = 1\n",
    "V = V_0 * (1 - epsilon_p_history)\n",
    "\n",
    "plt.plot(np.log(p_history), np.log(V))\n",
    "\n",
    "plt.plot(np.log(p_history), np.log(p_history**(-Lambda)+0.001) , 'r--')\n",
    "plt.plot(np.log(p_history), np.log(p_history**(-kappa) -0.004) , 'g--')\n",
    "\n",
    "plt.xlabel('log($p$)')\n",
    "plt.ylabel('log($V$)')"
   ]
  }
 ],
 "metadata": {
  "kernelspec": {
   "display_name": "Python 3",
   "language": "python",
   "name": "python3"
  },
  "language_info": {
   "codemirror_mode": {
    "name": "ipython",
    "version": 3
   },
   "file_extension": ".py",
   "mimetype": "text/x-python",
   "name": "python",
   "nbconvert_exporter": "python",
   "pygments_lexer": "ipython3",
   "version": "3.6.3"
  }
 },
 "nbformat": 4,
 "nbformat_minor": 2
}
