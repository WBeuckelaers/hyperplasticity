{
 "cells": [
  {
   "cell_type": "markdown",
   "metadata": {},
   "source": [
    "# Rate process theory\n",
    "\n",
    "This example gives the numerical implementation of the one dimensional rate process theory model (Houlsby & Puzrin, 2006)."
   ]
  },
  {
   "cell_type": "markdown",
   "metadata": {},
   "source": [
    "The Helmholtz free energy $f$ and the flow potential $w$ for this model are given by:\n",
    "\n",
    "\\begin{align*}\n",
    "f = & \\frac{E}{2} (\\epsilon - \\alpha)^2 \\\\\n",
    "w = & \\mu r^2 \\left[ \\mathrm{cosh} \\left( \\frac{\\left< |\\chi| - k \\right>}{\\mu r} \\right) - 1 \\right]\n",
    "\\end{align*}"
   ]
  },
  {
   "cell_type": "markdown",
   "metadata": {},
   "source": [
    "The incremental response follows from a standardised approach, which can be written in the following form:\n",
    "\n",
    "\\begin{equation*}\n",
    "\\begin{Bmatrix}\n",
    "\\dot{\\sigma} \\\\\n",
    "-\\dot{\\bar{\\chi}}\n",
    "\\end{Bmatrix}= \n",
    "\\begin{bmatrix}\n",
    "\\frac{\\partial^2 f}{\\partial \\epsilon^2} & \\frac{\\partial^2 f}{\\partial \\epsilon \\partial \\alpha} \\\\\n",
    "\\frac{\\partial^2 f}{\\partial \\epsilon \\partial \\alpha} & \\frac{\\partial^2 f}{\\partial \\alpha^2} \\\\\n",
    "\\end{bmatrix} \n",
    "\\begin{Bmatrix}\n",
    "\\dot{\\epsilon} \\\\\n",
    "\\dot{\\alpha}\n",
    "\\end{Bmatrix}\n",
    "\\end{equation*}\n",
    "\n",
    "The rate of hardening strain is defined by:\n",
    "\n",
    "\\begin{equation*}\n",
    "\\dot{\\alpha} = \\frac{\\partial w}{\\partial \\chi}\n",
    "\\end{equation*}"
   ]
  },
  {
   "cell_type": "code",
   "execution_count": 1,
   "metadata": {
    "collapsed": true
   },
   "outputs": [],
   "source": [
    "import numpy as np\n",
    "import matplotlib.pyplot as plt\n",
    "%matplotlib inline"
   ]
  },
  {
   "cell_type": "code",
   "execution_count": 2,
   "metadata": {
    "collapsed": true
   },
   "outputs": [],
   "source": [
    "def incremental_response_rate_process_theory(E, k, mu, r, epsilon_history, d_t):\n",
    "    \n",
    "    # Initialise the model state parameters\n",
    "    sigma = 0\n",
    "    chi = 0\n",
    "    alpha = 0\n",
    "    \n",
    "    sigma_history = np.zeros(len(epsilon_history))\n",
    "    \n",
    "    d2_f_d_e2 =  E\n",
    "    d2_f_d_a2 =  E\n",
    "    d2_f_d_ea = -E\n",
    "    d2_f_d_ae = -E\n",
    "    \n",
    "    epsilon_0 = 0\n",
    "\n",
    "    # Calculate the incremental response\n",
    "    for index, epsilon in enumerate(epsilon_history):\n",
    "    \n",
    "        d_epsilon = epsilon-epsilon_0\n",
    "        \n",
    "        d_w_d_chi = r*np.sign(chi)*np.sinh(np.maximum((np.abs(chi)-k), 0)/(mu*r))\n",
    "\n",
    "        d_alpha =  d_w_d_chi * d_t\n",
    "    \n",
    "        d_sigma = d2_f_d_e2 * d_epsilon + d2_f_d_ea * d_alpha\n",
    "        d_chi = - (d2_f_d_ae * d_epsilon + d2_f_d_a2 * d_alpha)\n",
    "    \n",
    "        sigma = sigma + d_sigma\n",
    "        chi = chi + d_chi\n",
    "        alpha = alpha + d_alpha\n",
    "        epsilon_0 = epsilon\n",
    "    \n",
    "        sigma_history[index] = sigma\n",
    "        \n",
    "    return sigma_history"
   ]
  },
  {
   "cell_type": "code",
   "execution_count": 11,
   "metadata": {},
   "outputs": [],
   "source": [
    "# Model parameters\n",
    "E = 1\n",
    "k = 1\n",
    "mu = 0.4\n",
    "r = 0.1\n",
    "\n",
    "# Define the applied strain history\n",
    "epsilon_max_abs = 4\n",
    "d_epsilon_abs = 0.001\n",
    "epsilon_history = np.arange(0, epsilon_max_abs, d_epsilon_abs)\n",
    "\n",
    "dt_1 = d_epsilon_abs / (r * 1000)\n",
    "dt_2 = d_epsilon_abs / (r * 100)\n",
    "dt_3 = d_epsilon_abs / (r * 10)\n",
    "dt_4 = d_epsilon_abs / (r * 1)\n",
    "\n",
    "sigma_history_1 = incremental_response_rate_process_theory(E, k, mu, r, epsilon_history, dt_1)\n",
    "sigma_history_2 = incremental_response_rate_process_theory(E, k, mu, r, epsilon_history, dt_2)\n",
    "sigma_history_3 = incremental_response_rate_process_theory(E, k, mu, r, epsilon_history, dt_3)\n",
    "sigma_history_4 = incremental_response_rate_process_theory(E, k, mu, r, epsilon_history, dt_4)"
   ]
  },
  {
   "cell_type": "code",
   "execution_count": 12,
   "metadata": {},
   "outputs": [
    {
     "data": {
      "text/plain": [
       "Text(0,0.5,'$\\\\sigma$')"
      ]
     },
     "execution_count": 12,
     "metadata": {},
     "output_type": "execute_result"
    },
    {
     "data": {
      "image/png": "[encoded data removed]",
      "text/plain": [
       "<matplotlib.figure.Figure at 0x114a91d68>"
      ]
     },
     "metadata": {},
     "output_type": "display_data"
    }
   ],
   "source": [
    "plt.plot(epsilon_history, sigma_history_1)\n",
    "plt.plot(epsilon_history, sigma_history_2)\n",
    "plt.plot(epsilon_history, sigma_history_3)\n",
    "plt.plot(epsilon_history, sigma_history_4)\n",
    "\n",
    "plt.xlabel('$\\epsilon$')\n",
    "plt.ylabel('$\\sigma$')"
   ]
  },
  {
   "cell_type": "code",
   "execution_count": null,
   "metadata": {
    "collapsed": true
   },
   "outputs": [],
   "source": []
  }
 ],
 "metadata": {
  "kernelspec": {
   "display_name": "Python 3",
   "language": "python",
   "name": "python3"
  },
  "language_info": {
   "codemirror_mode": {
    "name": "ipython",
    "version": 3
   },
   "file_extension": ".py",
   "mimetype": "text/x-python",
   "name": "python",
   "nbconvert_exporter": "python",
   "pygments_lexer": "ipython3",
   "version": "3.6.3"
  }
 },
 "nbformat": 4,
 "nbformat_minor": 2
}
