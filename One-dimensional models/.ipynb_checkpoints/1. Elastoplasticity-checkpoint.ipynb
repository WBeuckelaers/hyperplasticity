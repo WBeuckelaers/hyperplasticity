{
 "cells": [
  {
   "cell_type": "markdown",
   "metadata": {},
   "source": [
    "# One dimensional Elastoplasticity\n",
    "\n",
    "This example gives the numerical implementation of the one dimensional elastoplasticity model (Houlsby & Puzrin, 2006 - chapter 5.2.1)."
   ]
  },
  {
   "cell_type": "markdown",
   "metadata": {},
   "source": [
    "![title](Figures/SingleSpringSliderIllustration.pdf)"
   ]
  },
  {
   "cell_type": "markdown",
   "metadata": {},
   "source": [
    "The Helmholtz free energy $f$ and the yield function $y$ for this model are given by:\n",
    "\n",
    "\\begin{align*}\n",
    "f = & \\frac{E}{2} (\\epsilon - \\alpha)^2 \\\\\n",
    "y = & \\left| \\chi \\right| - k\n",
    "\\end{align*}"
   ]
  },
  {
   "cell_type": "markdown",
   "metadata": {},
   "source": [
    "The incremental response follows from a standardised approach, which can be written in the following form:\n",
    "\n",
    "\\begin{equation*}\n",
    "\\begin{Bmatrix}\n",
    "\\dot{\\sigma} \\\\\n",
    "-\\dot{\\bar{\\chi}}\n",
    "\\end{Bmatrix}= \n",
    "\\begin{bmatrix}\n",
    "\\frac{\\partial^2 f}{\\partial \\epsilon^2} & \\frac{\\partial^2 f}{\\partial \\epsilon \\partial \\alpha} \\\\\n",
    "\\frac{\\partial^2 f}{\\partial \\epsilon \\partial \\alpha} & \\frac{\\partial^2 f}{\\partial \\alpha^2} \\\\\n",
    "\\end{bmatrix} \n",
    "\\begin{Bmatrix}\n",
    "\\dot{\\epsilon} \\\\\n",
    "\\dot{\\alpha}\n",
    "\\end{Bmatrix}\n",
    "\\end{equation*}\n",
    "\n",
    "The rate of hardening strain is defined by:\n",
    "\n",
    "\\begin{equation*}\n",
    "\\dot{\\alpha} = \\lambda \\frac{\\partial y}{\\partial \\chi}\n",
    "\\end{equation*}\n",
    "\n",
    "where the multiplyer $\\lambda$ is derived from the consistency condition:\n",
    "\\begin{equation*}\n",
    "\\dot{y} = 0 = \\frac{\\partial y}{\\partial \\sigma} \\dot{\\sigma} + \\frac{\\partial y}{\\partial \\chi} \\dot{\\chi} + \\frac{\\partial y}{\\partial \\alpha} \\dot{\\alpha} \n",
    "\\end{equation*}\n",
    "\n",
    "Combining the above equations for the one dimensional model with Ziegler's orthogonality condition ($\\chi=\\bar{\\chi}$) gives:\n",
    "\\begin{align*}\n",
    "0 = & \\frac{\\partial y}{\\partial \\chi} \\left( \\frac{\\partial^2 f}{\\partial \\epsilon \\partial \\alpha} \\dot{\\epsilon} + \\frac{\\partial^2 f}{\\partial \\alpha^2} \\lambda \\frac{\\partial y}{\\partial \\chi} \\right) \\\\\n",
    "\\lambda = & - \\frac{\\frac{\\partial y}{\\partial \\chi} \\frac{\\partial^2 f}{\\partial \\epsilon \\partial \\alpha} }{\\frac{\\partial y}{\\partial \\chi} \\frac{\\partial^2 f}{\\partial \\alpha^2} \\frac{\\partial y}{\\partial \\chi}} \\dot{\\epsilon}\n",
    "\\end{align*}"
   ]
  },
  {
   "cell_type": "code",
   "execution_count": 1,
   "metadata": {
    "collapsed": true
   },
   "outputs": [],
   "source": [
    "# The implementation of the above equations is given below\n",
    "import numpy as np\n",
    "import matplotlib.pyplot as plt\n",
    "%matplotlib inline\n",
    "\n",
    "# Model parameters\n",
    "E = 1\n",
    "k = 1\n",
    "\n",
    "# Initialise the model state parameters\n",
    "sigma = 0\n",
    "chi = 0\n",
    "alpha = 0\n",
    "\n",
    "# Define the applied strain history\n",
    "epsilon_max_abs = 4\n",
    "d_epsilon_abs = 0.01\n",
    "epsilon_history = np.append(np.append(np.arange(0, epsilon_max_abs, \n",
    "        d_epsilon_abs), np.arange(epsilon_max_abs, -epsilon_max_abs, \n",
    "        -d_epsilon_abs)), np.arange(-epsilon_max_abs, 0, d_epsilon_abs))\n",
    "sigma_history = np.zeros(len(epsilon_history))\n",
    "\n",
    "d2_f_d_e2 =  E\n",
    "d2_f_d_a2 =  E\n",
    "d2_f_d_ea = -E\n",
    "d2_f_d_ae = -E\n",
    "\n",
    "epsilon_0 = 0\n",
    "\n",
    "# Calculate the incremental response\n",
    "for index, epsilon in enumerate(epsilon_history):\n",
    "    \n",
    "    d_epsilon = epsilon-epsilon_0\n",
    "\n",
    "    y = np.abs(chi) - k\n",
    "    d_y_d_chi = np.sign(chi)\n",
    "    \n",
    "    if y > 0 and d_epsilon * chi > 0:\n",
    "        lambda_ = -(d_y_d_chi * d2_f_d_ea)/(d_y_d_chi * d2_f_d_a2 * d_y_d_chi) * d_epsilon\n",
    "    else:\n",
    "        lambda_ = 0\n",
    "        \n",
    "    d_alpha = lambda_ * d_y_d_chi\n",
    "    \n",
    "    d_sigma = d2_f_d_e2 * d_epsilon + d2_f_d_ea * d_alpha\n",
    "    d_chi = - (d2_f_d_ae * d_epsilon + d2_f_d_a2 * d_alpha)\n",
    "    \n",
    "    sigma = sigma + d_sigma\n",
    "    chi = chi + d_chi\n",
    "    alpha = alpha + d_alpha\n",
    "    epsilon_0 = epsilon\n",
    "    \n",
    "    sigma_history[index] = sigma"
   ]
  },
  {
   "cell_type": "code",
   "execution_count": 2,
   "metadata": {},
   "outputs": [
    {
     "data": {
      "text/plain": [
       "Text(0,0.5,'$\\\\sigma$')"
      ]
     },
     "execution_count": 2,
     "metadata": {},
     "output_type": "execute_result"
    },
    {
     "data": {
      "image/png": "[encoded data removed]",
      "text/plain": [
       "<matplotlib.figure.Figure at 0x10ff7c0f0>"
      ]
     },
     "metadata": {},
     "output_type": "display_data"
    }
   ],
   "source": [
    "plt.plot(epsilon_history, sigma_history)\n",
    "plt.xlabel('$\\epsilon$')\n",
    "plt.ylabel('$\\sigma$')"
   ]
  }
 ],
 "metadata": {
  "kernelspec": {
   "display_name": "Python 3",
   "language": "python",
   "name": "python3"
  },
  "language_info": {
   "codemirror_mode": {
    "name": "ipython",
    "version": 3
   },
   "file_extension": ".py",
   "mimetype": "text/x-python",
   "name": "python",
   "nbconvert_exporter": "python",
   "pygments_lexer": "ipython3",
   "version": "3.6.3"
  }
 },
 "nbformat": 4,
 "nbformat_minor": 2
}
