{
 "cells": [
  {
   "cell_type": "markdown",
   "metadata": {},
   "source": [
    "# Kinematic hardening - One-dimensional example\n",
    "\n",
    "This example gives the numerical implementation of the one dimensional kinematic hardening model (Houlsby & Puzrin, 2006 - chapter 5.4.3)."
   ]
  },
  {
   "cell_type": "markdown",
   "metadata": {},
   "source": [
    "The Gibbs free energy $g$ and the yield function $y$ for this model are given by:\n",
    "\n",
    "\\begin{align*}\n",
    "g = & -\\frac{1}{2E} \\sigma^2 - \\sigma \\alpha + \\frac{H}{2} \\alpha^2\\\\\n",
    "y = & \\chi^2 - k^2\n",
    "\\end{align*}"
   ]
  },
  {
   "cell_type": "markdown",
   "metadata": {},
   "source": [
    "The incremental response follows from a standardised approach, which can be written in the following form:\n",
    "\n",
    "\\begin{equation*}\n",
    "\\begin{Bmatrix}\n",
    "-\\dot{\\epsilon} \\\\\n",
    "-\\dot{\\bar{\\chi}}\n",
    "\\end{Bmatrix}= \n",
    "\\begin{bmatrix}\n",
    "\\frac{\\partial^2 g}{\\partial \\sigma^2} & \\frac{\\partial^2 g}{\\partial \\sigma \\partial \\alpha} \\\\\n",
    "\\frac{\\partial^2 g}{\\partial \\sigma \\partial \\alpha} & \\frac{\\partial^2 g}{\\partial \\alpha^2} \\\\\n",
    "\\end{bmatrix} \n",
    "\\begin{Bmatrix}\n",
    "\\dot{\\sigma} \\\\\n",
    "\\dot{\\alpha}\n",
    "\\end{Bmatrix}\n",
    "\\end{equation*}\n",
    "\n",
    "The rate of hardening strain is defined by:\n",
    "\n",
    "\\begin{equation*}\n",
    "\\dot{\\alpha} = \\lambda \\frac{\\partial y}{\\partial \\chi}\n",
    "\\end{equation*}\n",
    "\n",
    "where the multiplyer $\\lambda$ is derived from the consistency condition:\n",
    "\\begin{equation*}\n",
    "\\dot{y} = 0 = \\frac{\\partial y}{\\partial \\sigma} \\dot{\\sigma} + \\frac{\\partial y}{\\partial \\chi} \\dot{\\chi} + \\frac{\\partial y}{\\partial \\alpha} \\dot{\\alpha} \n",
    "\\end{equation*}\n",
    "\n",
    "Combining the above equations for the one dimensional model with Ziegler's orthogonality condition ($\\chi=\\bar{\\chi}$) gives:\n",
    "\\begin{align*}\n",
    "0 = & \\frac{\\partial y}{\\partial \\chi} \\left( - \\frac{\\partial^2 g}{\\partial \\sigma \\partial \\alpha} \\dot{\\sigma} - \\frac{\\partial^2 g}{\\partial \\alpha^2} \\lambda \\frac{\\partial y}{\\partial \\chi} \\right) \\\\\n",
    "\\lambda = &  - \\frac{\\frac{\\partial y}{\\partial \\chi} \\frac{\\partial^2 g}{\\partial \\sigma \\partial \\alpha} }{\\frac{\\partial y}{\\partial \\chi} \\frac{\\partial^2 g}{\\partial \\alpha^2} \\frac{\\partial y}{\\partial \\chi}} \\dot{\\sigma}\n",
    "\\end{align*}"
   ]
  },
  {
   "cell_type": "code",
   "execution_count": 1,
   "metadata": {
    "collapsed": true
   },
   "outputs": [],
   "source": [
    "# The implementation of the above equations is given below\n",
    "import numpy as np\n",
    "import matplotlib.pyplot as plt\n",
    "%matplotlib inline\n",
    "\n",
    "# Model parameters\n",
    "E = 1\n",
    "H = 0.3\n",
    "k = 1\n",
    "\n",
    "# Initialise the model state parameters\n",
    "epsilon = 0\n",
    "chi = 0\n",
    "alpha = 0\n",
    "\n",
    "# Define the applied stress history\n",
    "sigma_max_abs_1 = 1.5\n",
    "sigma_max_abs_2 = 1.5\n",
    "sigma_max_abs_3 = 0.8\n",
    "\n",
    "d_sigma_abs = 0.01\n",
    "sigma_history = np.append(np.append(np.arange(0, sigma_max_abs_1, \n",
    "        d_sigma_abs), np.arange(sigma_max_abs_1, -sigma_max_abs_2, \n",
    "        -d_sigma_abs)), np.arange(-sigma_max_abs_2, sigma_max_abs_3, d_sigma_abs))\n",
    "epsilon_history = np.zeros(len(sigma_history))\n",
    "\n",
    "d2_g_d_s2 = -1/E\n",
    "d2_g_d_a2 =  H\n",
    "d2_g_d_sa = -1\n",
    "d2_g_d_as = -1\n",
    "\n",
    "sigma_0 = 0\n",
    "\n",
    "# Calculate the incremental response\n",
    "for index, sigma in enumerate(sigma_history):\n",
    "    \n",
    "    d_sigma = sigma - sigma_0\n",
    "    \n",
    "    y = np.abs(chi) - k\n",
    "    d_y_d_chi = 2*chi\n",
    "    \n",
    "    if y > 0 and d_sigma * chi > 0:\n",
    "        lambda_ = (d_y_d_chi * d2_g_d_sa)/(- d_y_d_chi * d2_g_d_a2 * d_y_d_chi) * d_sigma\n",
    "    else:\n",
    "        lambda_ = 0\n",
    "        \n",
    "    d_alpha = lambda_ * d_y_d_chi\n",
    "    \n",
    "    d_epsilon = - (d2_g_d_s2 * d_sigma + d2_g_d_sa * d_alpha)\n",
    "    d_chi = - (d2_g_d_as * d_sigma + d2_g_d_a2 * d_alpha)\n",
    "    \n",
    "    epsilon = epsilon + d_epsilon\n",
    "    chi = chi + d_chi\n",
    "    alpha = alpha + d_alpha\n",
    "    \n",
    "    sigma_0 = sigma\n",
    "        \n",
    "    epsilon_history[index] = epsilon    "
   ]
  },
  {
   "cell_type": "code",
   "execution_count": 2,
   "metadata": {},
   "outputs": [
    {
     "data": {
      "text/plain": [
       "Text(0,0.5,'$\\\\sigma$')"
      ]
     },
     "execution_count": 2,
     "metadata": {},
     "output_type": "execute_result"
    },
    {
     "data": {
      "image/png": "[encoded data removed]",
      "text/plain": [
       "<matplotlib.figure.Figure at 0x10e368828>"
      ]
     },
     "metadata": {},
     "output_type": "display_data"
    }
   ],
   "source": [
    "plt.plot(epsilon_history, sigma_history)\n",
    "plt.xlabel('$\\epsilon$')\n",
    "plt.ylabel('$\\sigma$')"
   ]
  }
 ],
 "metadata": {
  "kernelspec": {
   "display_name": "Python 3",
   "language": "python",
   "name": "python3"
  },
  "language_info": {
   "codemirror_mode": {
    "name": "ipython",
    "version": 3
   },
   "file_extension": ".py",
   "mimetype": "text/x-python",
   "name": "python",
   "nbconvert_exporter": "python",
   "pygments_lexer": "ipython3",
   "version": "3.6.3"
  }
 },
 "nbformat": 4,
 "nbformat_minor": 2
}
