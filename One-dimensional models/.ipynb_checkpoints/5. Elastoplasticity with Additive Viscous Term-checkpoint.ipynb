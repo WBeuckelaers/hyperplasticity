{
 "cells": [
  {
   "cell_type": "markdown",
   "metadata": {},
   "source": [
    "# One dimensional Elastoplasticity\n",
    "\n",
    "This example gives the numerical implementation of the one dimensional elastoplasticity model with an additive viscous term (Houlsby & Puzrin, 2006 - chapter 11.2.1)."
   ]
  },
  {
   "cell_type": "markdown",
   "metadata": {},
   "source": [
    "The Helmholtz free energy $f$ and the flow potential $w$ for this model are given by:\n",
    "\n",
    "\\begin{align*}\n",
    "f = & \\frac{E}{2} (\\epsilon - \\alpha)^2 \\\\\n",
    "w = & \\frac{\\left< |\\chi| - k \\right>^2}{2 \\mu}\n",
    "\\end{align*}"
   ]
  },
  {
   "cell_type": "markdown",
   "metadata": {},
   "source": [
    "The incremental response follows from a standardised approach, which can be written in the following form:\n",
    "\n",
    "\\begin{equation*}\n",
    "\\begin{Bmatrix}\n",
    "\\dot{\\sigma} \\\\\n",
    "-\\dot{\\bar{\\chi}}\n",
    "\\end{Bmatrix}= \n",
    "\\begin{bmatrix}\n",
    "\\frac{\\partial^2 f}{\\partial \\epsilon^2} & \\frac{\\partial^2 f}{\\partial \\epsilon \\partial \\alpha} \\\\\n",
    "\\frac{\\partial^2 f}{\\partial \\epsilon \\partial \\alpha} & \\frac{\\partial^2 f}{\\partial \\alpha^2} \\\\\n",
    "\\end{bmatrix} \n",
    "\\begin{Bmatrix}\n",
    "\\dot{\\epsilon} \\\\\n",
    "\\dot{\\alpha}\n",
    "\\end{Bmatrix}\n",
    "\\end{equation*}\n",
    "\n",
    "The rate of hardening strain is defined by:\n",
    "\n",
    "\\begin{equation*}\n",
    "\\dot{\\alpha} = \\frac{\\partial w}{\\partial \\chi}\n",
    "\\end{equation*}"
   ]
  },
  {
   "cell_type": "code",
   "execution_count": 1,
   "metadata": {
    "collapsed": true
   },
   "outputs": [],
   "source": [
    "# The implementation of the above equations is given below\n",
    "import numpy as np\n",
    "import matplotlib.pyplot as plt\n",
    "%matplotlib inline\n",
    "\n",
    "# Model parameters\n",
    "E = 1\n",
    "k = 1\n",
    "mu = 0.1\n",
    "\n",
    "# Initialise the model state parameters\n",
    "sigma = 0\n",
    "chi = 0\n",
    "alpha = 0\n",
    "\n",
    "# Define the applied strain history\n",
    "epsilon_max_abs = 4\n",
    "d_epsilon_abs = 0.01\n",
    "epsilon_history = np.append(np.append(np.arange(0, epsilon_max_abs, \n",
    "        d_epsilon_abs), np.arange(epsilon_max_abs, -epsilon_max_abs, \n",
    "        -d_epsilon_abs)), np.arange(-epsilon_max_abs, 0, d_epsilon_abs))\n",
    "sigma_history = np.zeros(len(epsilon_history))\n",
    "\n",
    "d_t = 0.01\n",
    "\n",
    "d2_f_d_e2 =  E\n",
    "d2_f_d_a2 =  E\n",
    "d2_f_d_ea = -E\n",
    "d2_f_d_ae = -E\n",
    "\n",
    "epsilon_0 = 0\n",
    "\n",
    "# Calculate the incremental response\n",
    "for index, epsilon in enumerate(epsilon_history):\n",
    "    \n",
    "    d_epsilon = epsilon-epsilon_0\n",
    "\n",
    "    d_w_d_chi = np.sign(chi) * np.maximum(np.abs(chi)-k, 0) / mu\n",
    "    d_alpha =  d_w_d_chi * d_t\n",
    "    \n",
    "    d_sigma = d2_f_d_e2 * d_epsilon + d2_f_d_ea * d_alpha\n",
    "    d_chi = - (d2_f_d_ae * d_epsilon + d2_f_d_a2 * d_alpha)\n",
    "    \n",
    "    sigma = sigma + d_sigma\n",
    "    chi = chi + d_chi\n",
    "    alpha = alpha + d_alpha\n",
    "    epsilon_0 = epsilon\n",
    "    \n",
    "    sigma_history[index] = sigma"
   ]
  },
  {
   "cell_type": "code",
   "execution_count": 2,
   "metadata": {},
   "outputs": [
    {
     "data": {
      "text/plain": [
       "Text(0,0.5,'$\\\\sigma$')"
      ]
     },
     "execution_count": 2,
     "metadata": {},
     "output_type": "execute_result"
    },
    {
     "data": {
      "image/png": "[encoded data removed]",
      "text/plain": [
       "<matplotlib.figure.Figure at 0x1036a1940>"
      ]
     },
     "metadata": {},
     "output_type": "display_data"
    }
   ],
   "source": [
    "plt.plot(epsilon_history, sigma_history)\n",
    "plt.xlabel('$\\epsilon$')\n",
    "plt.ylabel('$\\sigma$')"
   ]
  },
  {
   "cell_type": "code",
   "execution_count": null,
   "metadata": {
    "collapsed": true
   },
   "outputs": [],
   "source": []
  }
 ],
 "metadata": {
  "kernelspec": {
   "display_name": "Python 3",
   "language": "python",
   "name": "python3"
  },
  "language_info": {
   "codemirror_mode": {
    "name": "ipython",
    "version": 3
   },
   "file_extension": ".py",
   "mimetype": "text/x-python",
   "name": "python",
   "nbconvert_exporter": "python",
   "pygments_lexer": "ipython3",
   "version": "3.6.3"
  }
 },
 "nbformat": 4,
 "nbformat_minor": 2
}
