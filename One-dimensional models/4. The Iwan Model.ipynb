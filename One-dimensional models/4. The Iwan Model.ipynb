{
 "cells": [
  {
   "cell_type": "markdown",
   "metadata": {},
   "source": [
    "# The Iwan Model - One-dimensional example\n",
    "\n",
    "This example gives the numerical implementation of the series kinematic hardening model, a.k.a. the Iwan model (Houlsby & Puzrin, 2006 - chapter 7.4)."
   ]
  },
  {
   "cell_type": "markdown",
   "metadata": {},
   "source": [
    "The Gibbs free energy $g$ and the yield functions $y_n$ for this model are given by:\n",
    "\n",
    "\\begin{align*}\n",
    "g = & -\\frac{1}{2E} \\sigma^2 - \\sigma \\sum_{n=1}^N \\alpha_n + \\frac{1}{2} \\sum_{n=1}^N H_n \\alpha_n^2\\\\\n",
    "y_n = & \\left| \\chi_n \\right|  - k_n\n",
    "\\end{align*}"
   ]
  },
  {
   "cell_type": "markdown",
   "metadata": {},
   "source": [
    "The incremental response follows from a standardised approach, which can be written in the following form:\n",
    "\n",
    "\\begin{align*}\n",
    "-\\dot{\\epsilon} = & \\frac{\\partial^2 g}{\\partial \\sigma^2} \\dot{\\sigma} + \\sum_{n=1}^N \\frac{\\partial^2 g}{\\partial \\sigma \\partial \\alpha}_n \\dot{\\alpha}_n \\\\\n",
    "-\\dot{\\bar{\\chi}}_n = & \\frac{\\partial^2 g}{\\partial \\sigma \\partial \\alpha_n} \\dot{\\sigma} + \\sum_{m=1}^N \\frac{\\partial^2 g}{\\partial \\alpha_n \\partial \\alpha_m} \\dot{\\alpha}_m\n",
    "\\end{align*}\n",
    "\n",
    "\n",
    "The rate of hardening strain is defined by:\n",
    "\n",
    "\\begin{equation*}\n",
    "\\dot{\\alpha}_n = \\lambda_n \\frac{\\partial y_n}{\\partial \\chi}\n",
    "\\end{equation*}\n",
    "\n",
    "where the multiplyer $\\lambda_n$ is derived from the consistency condition:\n",
    "\\begin{equation*}\n",
    "\\dot{y}_n = 0 = \\frac{\\partial y_n}{\\partial \\sigma} \\dot{\\sigma} + \\frac{\\partial y_n}{\\partial \\chi} \\dot{\\chi} + \\frac{\\partial y_n}{\\partial \\alpha} \\dot{\\alpha} \n",
    "\\end{equation*}\n",
    "\n",
    "Combining the above equations for the one dimensional model with Ziegler's orthogonality condition ($\\chi_n=\\bar{\\chi}_n$), and substituting $\\frac{\\partial y_n}{\\partial \\chi_m}=0$ and $\\frac{\\partial^2 g}{\\partial \\alpha_n \\partial \\alpha_m}=0$ for $m \\neq n$, gives:\n",
    "\\begin{align*}\n",
    "0 = & \\frac{\\partial y_n}{\\partial \\chi_n} \\left( \\frac{\\partial^2 g}{\\partial \\sigma \\partial \\alpha_n} \\dot{\\sigma} + \\frac{\\partial^2 g}{\\partial \\alpha_n^2} \\lambda \\frac{\\partial y_n}{\\partial \\chi_n} \\right) \\\\\n",
    "\\lambda_n = &  - \\frac{\\frac{\\partial y_n}{\\partial \\chi_n} \\frac{\\partial^2 g}{\\partial \\sigma \\partial \\alpha_n} }{\\frac{\\partial y_n}{\\partial \\chi_n} \\frac{\\partial^2 g}{\\partial \\alpha_n^2} \\frac{\\partial y_n}{\\partial \\chi_n}} \\dot{\\sigma}\n",
    "\\end{align*}"
   ]
  },
  {
   "cell_type": "code",
   "execution_count": 1,
   "metadata": {},
   "outputs": [
    {
     "name": "stderr",
     "output_type": "stream",
     "text": [
      "/anaconda3/lib/python3.6/site-packages/ipykernel_launcher.py:43: RuntimeWarning: invalid value encountered in true_divide\n",
      "/anaconda3/lib/python3.6/site-packages/ipykernel_launcher.py:44: RuntimeWarning: invalid value encountered in less\n"
     ]
    }
   ],
   "source": [
    "# The implementation of the above equations is given below\n",
    "import numpy as np\n",
    "import matplotlib.pyplot as plt\n",
    "%matplotlib inline\n",
    "\n",
    "# Model parameters\n",
    "E = 10\n",
    "H_n = np.array([  8,   6,   4,   2,  1])\n",
    "k_n = np.array([0.2, 0.4, 0.6, 0.8,  1])\n",
    "N = len(H_n)\n",
    "\n",
    "# Initialise the model state parameters\n",
    "epsilon = 0\n",
    "chi_n = np.zeros(N)\n",
    "alpha_n = np.zeros(N)\n",
    "\n",
    "# Define the applied stress history\n",
    "sigma_max_abs_1 = 0.9\n",
    "sigma_max_abs_2 = 0.9\n",
    "sigma_max_abs_3 = 0.7\n",
    "\n",
    "d_sigma_abs = 0.01\n",
    "sigma_history = np.append(np.append(np.arange(0, sigma_max_abs_1, \n",
    "        d_sigma_abs), np.arange(sigma_max_abs_1, -sigma_max_abs_2, \n",
    "        -d_sigma_abs)), np.arange(-sigma_max_abs_2, sigma_max_abs_3, d_sigma_abs))\n",
    "epsilon_history = np.zeros(len(sigma_history))\n",
    "\n",
    "d2_g_d_s2 = -1/E\n",
    "d2_g_d_a2 =  H_n\n",
    "d2_g_d_sa = -np.ones(N)\n",
    "d2_g_d_as = -np.ones(N)\n",
    "\n",
    "sigma_0 = 0\n",
    "\n",
    "# Calculate the incremental response\n",
    "for index, sigma in enumerate(sigma_history):\n",
    "    \n",
    "    d_sigma = sigma - sigma_0\n",
    "        \n",
    "    y_n = np.abs(chi_n) - k_n\n",
    "    d_y_n_d_chi_n = np.sign(chi_n)\n",
    "        \n",
    "    lambda_n = -(d_y_n_d_chi_n * d2_g_d_sa)/(d_y_n_d_chi_n * d2_g_d_a2 * d_y_n_d_chi_n) * d_sigma \n",
    "    lambda_n[lambda_n < 0] = 0\n",
    "    lambda_n[y_n < 0] = 0\n",
    "                \n",
    "    d_alpha_n = lambda_n * d_y_n_d_chi_n\n",
    "        \n",
    "    d_epsilon = - (d2_g_d_s2 * d_sigma + np.sum(d2_g_d_sa * d_alpha_n))\n",
    "    d_chi_n = - (d2_g_d_as * d_sigma + d2_g_d_a2 * d_alpha_n)\n",
    "        \n",
    "    epsilon = epsilon + d_epsilon\n",
    "    chi_n = chi_n + d_chi_n\n",
    "    alpha_n = alpha_n + d_alpha_n\n",
    "    \n",
    "    sigma_0 = sigma\n",
    "            \n",
    "    epsilon_history[index] = epsilon   "
   ]
  },
  {
   "cell_type": "code",
   "execution_count": 2,
   "metadata": {},
   "outputs": [
    {
     "data": {
      "text/plain": [
       "Text(0,0.5,'$\\\\sigma$')"
      ]
     },
     "execution_count": 2,
     "metadata": {},
     "output_type": "execute_result"
    },
    {
     "data": {
      "image/png": "[encoded data removed]",
      "text/plain": [
       "<matplotlib.figure.Figure at 0x107373828>"
      ]
     },
     "metadata": {},
     "output_type": "display_data"
    }
   ],
   "source": [
    "plt.plot(epsilon_history, sigma_history)\n",
    "plt.xlabel('$\\epsilon$')\n",
    "plt.ylabel('$\\sigma$')"
   ]
  }
 ],
 "metadata": {
  "kernelspec": {
   "display_name": "Python 3",
   "language": "python",
   "name": "python3"
  },
  "language_info": {
   "codemirror_mode": {
    "name": "ipython",
    "version": 3
   },
   "file_extension": ".py",
   "mimetype": "text/x-python",
   "name": "python",
   "nbconvert_exporter": "python",
   "pygments_lexer": "ipython3",
   "version": "3.6.3"
  }
 },
 "nbformat": 4,
 "nbformat_minor": 2
}
