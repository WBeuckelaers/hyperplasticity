{
 "cells": [
  {
   "cell_type": "markdown",
   "metadata": {},
   "source": [
    "# s-Kinematic hardening - with additive viscous term\n",
    "\n",
    "This example gives the numerical implementation of the viscous series kinematic hardening model.\n",
    "\n",
    "For background, see: Houlsby et al. (2017) A model for nonlinear hysteretic and ratcheting behaviour. _International Journal of Solids and Structures_ __120__ 67-80."
   ]
  },
  {
   "cell_type": "markdown",
   "metadata": {},
   "source": [
    "The Gibbs free energy $g$ and the flow potential $w$ for this model are given by:\n",
    "\n",
    "\\begin{align*}\n",
    "g = & -\\frac{1}{2E} \\sigma^2 - \\sigma \\sum_{n=1}^N \\alpha_n + \\frac{1}{2} \\sum_{n=1}^N H_n \\alpha_n^2\\\\\n",
    "w = & \\frac{1}{2\\mu} \\sum_{n=1}^{N} \\langle |\\chi_n| - k_n \\rangle^2\n",
    "\\end{align*}"
   ]
  },
  {
   "cell_type": "markdown",
   "metadata": {},
   "source": [
    "The incremental response follows from a standardised approach, which can be written in the following form:\n",
    "\n",
    "\\begin{align*}\n",
    "-\\dot{\\epsilon} & = \\frac{\\partial^2 g}{\\partial \\sigma^2} \\dot{\\sigma} + \\sum_{n=1}^{N} \\frac{\\partial^2 g}{\\partial \\sigma \\partial \\alpha_n} \\dot{\\alpha}_n \\\\\n",
    "-\\dot{\\bar{\\chi}}_n & = \\frac{\\partial^2 g}{\\partial \\sigma \\partial \\alpha_n} \\dot{\\sigma} + \\sum_{m=1}^{N} \\frac{\\partial^2 g}{\\partial \\alpha_m \\partial \\alpha_n} \\dot{\\alpha}_n \n",
    "\\end{align*}\n",
    "\n",
    "The rate of hardening strain is defined by:\n",
    "\n",
    "\\begin{equation*}\n",
    "\\dot{\\alpha}_n = \\frac{\\partial w}{\\partial \\chi_n}\n",
    "\\end{equation*}"
   ]
  },
  {
   "cell_type": "code",
   "execution_count": 1,
   "metadata": {
    "collapsed": true
   },
   "outputs": [],
   "source": [
    "import numpy as np\n",
    "import matplotlib.pyplot as plt\n",
    "%matplotlib inline\n",
    "from discretise_kinematic_hardening import discretise_kinematic_hardening_series"
   ]
  },
  {
   "cell_type": "code",
   "execution_count": 2,
   "metadata": {
    "collapsed": true
   },
   "outputs": [],
   "source": [
    "def macaulay(x):\n",
    "    x[x<0] = 0\n",
    "    return x"
   ]
  },
  {
   "cell_type": "code",
   "execution_count": 3,
   "metadata": {
    "collapsed": true
   },
   "outputs": [],
   "source": [
    "# Model parameters\n",
    "sigma_backbone = np.array([0.2, 0.4, 0.6, 0.8, 1])\n",
    "epsilon_backbone = np.array([0.2, 0.6, 1.2, 2.0, 3.0])\n",
    "\n",
    "k_n, H_n, E = discretise_kinematic_hardening_series(sigma_backbone, epsilon_backbone)\n",
    "N = len(H_n)\n",
    "\n",
    "# Initialise the model state parameters\n",
    "epsilon = 0\n",
    "chi_n = np.zeros(N)\n",
    "alpha_n = np.zeros(N)\n",
    "\n",
    "# Define the applied stress history\n",
    "sigma_max_abs_1 = 0.9\n",
    "sigma_max_abs_2 = 0\n",
    "\n",
    "d_sigma_abs = 0.001\n",
    "\n",
    "sigma_loop = np.append(np.arange(0, sigma_max_abs_1, d_sigma_abs), \n",
    "                np.arange(sigma_max_abs_1, -sigma_max_abs_2, -d_sigma_abs))\n",
    "\n",
    "sigma_history = np.tile(sigma_loop, 10)\n",
    "epsilon_history = np.zeros(len(sigma_history))\n",
    "\n",
    "d2_g_d_s2 = -1/E\n",
    "d2_g_d_an2 =  H_n\n",
    "d2_g_d_san = -np.ones(N)\n",
    "d2_g_d_ans = -np.ones(N)\n",
    "\n",
    "sigma_0 = 0\n",
    "\n",
    "mu = 0.01\n",
    "dt = 0.01\n",
    "\n",
    "# Calculate the incremental response\n",
    "for index, sigma in enumerate(sigma_history):\n",
    "    \n",
    "    d_sigma = sigma - sigma_0\n",
    "        \n",
    "    d_w_d_chi_n = 1 / mu * macaulay(np.abs(chi_n) - k_n) * np.sign(chi_n)\n",
    "    d_alpha_n = d_w_d_chi_n * dt\n",
    "        \n",
    "    d_epsilon = - (d2_g_d_s2 * d_sigma + np.sum(d2_g_d_san * d_alpha_n))\n",
    "    d_chi_n = - (d2_g_d_ans * d_sigma + d2_g_d_an2 * d_alpha_n)\n",
    "        \n",
    "    epsilon = epsilon + d_epsilon\n",
    "    chi_n = chi_n + d_chi_n\n",
    "    alpha_n = alpha_n + d_alpha_n\n",
    "    \n",
    "    sigma_0 = sigma\n",
    "            \n",
    "    epsilon_history[index] = epsilon   "
   ]
  },
  {
   "cell_type": "code",
   "execution_count": 4,
   "metadata": {
    "scrolled": false
   },
   "outputs": [
    {
     "data": {
      "text/plain": [
       "Text(0,0.5,'$\\\\sigma$')"
      ]
     },
     "execution_count": 4,
     "metadata": {},
     "output_type": "execute_result"
    },
    {
     "data": {
      "image/png": "[encoded data removed]",
      "text/plain": [
       "<matplotlib.figure.Figure at 0x10d215198>"
      ]
     },
     "metadata": {},
     "output_type": "display_data"
    }
   ],
   "source": [
    "plt.plot(epsilon_history, sigma_history)\n",
    "plt.xlabel('$\\epsilon$')\n",
    "plt.ylabel('$\\sigma$')"
   ]
  }
 ],
 "metadata": {
  "kernelspec": {
   "display_name": "Python 3",
   "language": "python",
   "name": "python3"
  },
  "language_info": {
   "codemirror_mode": {
    "name": "ipython",
    "version": 3
   },
   "file_extension": ".py",
   "mimetype": "text/x-python",
   "name": "python",
   "nbconvert_exporter": "python",
   "pygments_lexer": "ipython3",
   "version": "3.6.3"
  }
 },
 "nbformat": 4,
 "nbformat_minor": 2
}
