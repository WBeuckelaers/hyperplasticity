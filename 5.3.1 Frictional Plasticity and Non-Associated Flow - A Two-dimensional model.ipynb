{
 "cells": [
  {
   "cell_type": "markdown",
   "metadata": {},
   "source": [
    "# 5.3.1 Frictional Plasticity and Non-Associated Flow - A Two-dimensional model\n",
    "\n",
    "This example gives the numerical implementation of the two dimensional frictional plasticity model with non-associated flow."
   ]
  },
  {
   "cell_type": "markdown",
   "metadata": {},
   "source": [
    "The Helmholtz free energy $f$ and the yield function $y$ for this model are given by:\n",
    "\n",
    "\\begin{align*}\n",
    "f = & - \\frac{K}{2} (\\epsilon - \\alpha_{\\epsilon})^2 - \\frac{G}{2} (\\gamma - \\alpha_{\\gamma})^2 \\\\\n",
    "y = & \\left| \\chi_{\\tau} \\right|  + \\mu \\sigma + \\beta \\chi_{\\sigma}\n",
    "\\end{align*}"
   ]
  },
  {
   "cell_type": "markdown",
   "metadata": {},
   "source": [
    "The incremental response for this model can be written as follows:\n",
    "\n",
    "\\begin{align*}\n",
    "\\dot{\\sigma} = & \\frac{\\partial^2 f}{\\partial \\epsilon^2} \\dot{\\epsilon} + \\frac{\\partial^2 f}{\\partial \\epsilon \\partial \\alpha_{\\epsilon}} \\dot{\\alpha}_{\\epsilon} \\\\\n",
    "\\dot{\\tau} = & \\frac{\\partial^2 f}{\\partial \\gamma^2} \\dot{\\gamma} + \\frac{\\partial^2 f}{\\partial \\gamma \\partial \\alpha_{\\gamma}} \\dot{\\alpha}_{\\gamma} \\\\\n",
    "-\\dot{\\bar{\\chi}}_{\\sigma} = & \\frac{\\partial^2 f}{\\partial \\alpha_{\\epsilon} \\partial \\epsilon} \\dot{\\epsilon} + \\frac{\\partial^2 f}{\\partial \\alpha_{\\epsilon}^2} \\dot{\\alpha}_{\\epsilon} \\\\ \n",
    "-\\dot{\\bar{\\chi}}_{\\tau} = & \\frac{\\partial^2 f}{\\partial \\alpha_{\\gamma} \\partial \\gamma} \\dot{\\gamma} + \\frac{\\partial^2 f}{\\partial \\alpha_{\\gamma}^2} \\dot{\\alpha}_{\\gamma}\n",
    "\\end{align*}"
   ]
  },
  {
   "cell_type": "markdown",
   "metadata": {},
   "source": [
    "The rate of hardening strain is defined by:\n",
    "\n",
    "\\begin{align*}\n",
    "\\dot{\\alpha}_{\\epsilon} =  & \\lambda \\frac{\\partial y}{\\partial \\chi_{\\sigma}} \\\\\n",
    "\\dot{\\alpha}_{\\gamma}   =  & \\lambda \\frac{\\partial y}{\\partial \\chi_{\\tau}} \\\\\n",
    "\\end{align*}\n",
    "\n",
    "where the multiplyer $\\lambda_n$ is derived from the consistency condition:\n",
    "\\begin{equation*}\n",
    "\\dot{y} = 0 = \\frac{\\partial y}{\\partial \\sigma} \\dot{\\sigma} + \\frac{\\partial y}{\\partial \\chi_{\\sigma}} \\dot{\\chi_{\\sigma}} + \\frac{\\partial y}{\\partial \\chi_{\\tau}} \\dot{\\chi_{\\tau}}\n",
    "\\end{equation*}"
   ]
  },
  {
   "cell_type": "markdown",
   "metadata": {},
   "source": [
    "Combining the above equations for the one dimensional model with Ziegler's orthogonality condition ($\\chi=\\bar{\\chi}$) gives:\n",
    "\\begin{align*}\n",
    "0 = & \\frac{\\partial y}{\\partial \\sigma} \\left( \\frac{\\partial^2 f}{\\partial \\epsilon^2} \\dot{\\epsilon} + \\frac{\\partial^2 f}{\\partial \\epsilon \\partial \\alpha_{\\epsilon}} \\lambda \\frac{\\partial y}{\\partial \\chi_{\\sigma}} \\right) - \\frac{\\partial y}{\\partial \\chi_{\\sigma}} \\left( \\frac{\\partial^2 f}{\\partial \\alpha_{\\epsilon} \\partial \\epsilon} \\dot{\\epsilon} + \\frac{\\partial^2 f}{\\partial \\alpha_{\\epsilon}^2} \\lambda \\frac{\\partial y}{\\partial \\chi_{\\sigma}} \\right) - \\frac{\\partial y}{\\partial \\chi_{\\tau}} \\left( \\frac{\\partial^2 f}{\\partial \\alpha_{\\gamma} \\partial \\gamma} \\dot{\\gamma} + \\frac{\\partial^2 f}{\\partial \\alpha_{\\gamma}^2} \\lambda \\frac{\\partial y}{\\partial \\chi_{\\tau}} \\right) \\\\\n",
    "\\end{align*}"
   ]
  },
  {
   "cell_type": "markdown",
   "metadata": {},
   "source": [
    "\\begin{align*}\n",
    "\\lambda = & - \\frac{\\left(\\frac{\\partial y}{\\partial \\sigma} \\frac{\\partial^2 f}{\\partial \\epsilon^2} - \\frac{\\partial y}{\\partial \\chi_{\\sigma}} \\frac{\\partial^2 f}{\\partial \\alpha_{\\epsilon} \\partial \\epsilon} \\right) \\dot{\\epsilon} - \\left( \\frac{\\partial y}{\\partial \\chi_{\\tau}} \\frac{\\partial^2 f}{\\partial \\alpha_{\\gamma} \\partial \\gamma} \\right) \\dot{\\gamma} }{ \\left( \\frac{\\partial y}{\\partial \\sigma} \\frac{\\partial^2 f}{\\partial \\epsilon \\partial \\alpha_{\\epsilon}} - \\frac{\\partial y}{\\partial \\chi_{\\sigma}} \\frac{\\partial^2 f}{\\partial \\alpha_{\\epsilon}^2} \\right) \\frac{\\partial y}{\\partial \\chi_{\\sigma}} - \\left( \\frac{\\partial y}{\\partial \\chi_{\\tau}} \\frac{\\partial^2 f}{\\partial \\alpha_{\\gamma}^2} \\right) \\frac{\\partial y}{\\partial \\chi_{\\tau}} }\n",
    "\\end{align*}"
   ]
  },
  {
   "cell_type": "code",
   "execution_count": 1,
   "metadata": {},
   "outputs": [],
   "source": [
    "# The implementation of the above equations is given below\n",
    "import numpy as np\n",
    "import matplotlib.pyplot as plt\n",
    "%matplotlib inline\n",
    "\n",
    "# Model parameters\n",
    "K = 10\n",
    "G = 10\n",
    "\n",
    "mu = 0.3\n",
    "beta = 0.1\n",
    "\n",
    "# Initialise the model state parameters\n",
    "sigma =-2\n",
    "tau = 0\n",
    "chi_s = sigma\n",
    "chi_t = 0\n",
    "alpha_e = 0\n",
    "alpha_g = 0\n",
    "\n",
    "# Define the applied stress history\n",
    "gamma_max_abs_1 = 3\n",
    "gamma_max_abs_2 = 0\n",
    "d_gamma_abs = 0.001\n",
    "\n",
    "gamma_history = np.append(np.arange(0, gamma_max_abs_1, d_gamma_abs), \n",
    "                np.arange(gamma_max_abs_1, -gamma_max_abs_2, -d_gamma_abs))\n",
    "epsilon_history = 0 * gamma_history\n",
    "\n",
    "indices = np.arange(0,len(epsilon_history))\n",
    "\n",
    "sigma_history = np.zeros_like(epsilon_history)\n",
    "tau_history = np.zeros_like(gamma_history)\n",
    "\n",
    "d2_f_d_e2 = -K\n",
    "d2_f_d_eae = K\n",
    "d2_f_d_aee = K\n",
    "d2_f_d_ae2 =-K\n",
    "d2_f_d_g2 = -G\n",
    "d2_f_d_gag = G\n",
    "d2_f_d_agg = G\n",
    "d2_f_d_ag2 =-G\n",
    "\n",
    "epsilon_0 = 0\n",
    "gamma_0   = 0\n",
    "\n",
    "# Calculate the incremental response\n",
    "for index, epsilon, gamma in zip(indices, epsilon_history, gamma_history):\n",
    "    \n",
    "    d_epsilon = epsilon - epsilon_0\n",
    "    d_gamma = gamma - gamma_0\n",
    "            \n",
    "    y = np.abs(chi_t) + mu * sigma + beta * chi_s\n",
    "    \n",
    "    d_y_d_chi_s = beta\n",
    "    d_y_d_chi_t = np.sign(chi_t)\n",
    "    d_y_d_sigma = mu\n",
    "    \n",
    "    if y > 0 and (d_gamma * d_y_d_chi_t + d_epsilon * d_y_d_chi_s) < 0:\n",
    "        _lambda = -((d_y_d_sigma * d2_f_d_e2 - d_y_d_chi_s * d2_f_d_aee) * d_epsilon - (d_y_d_chi_t * d2_f_d_agg) * d_gamma)/((d_y_d_sigma * d2_f_d_eae - d_y_d_chi_s * d2_f_d_ae2) * d_y_d_chi_s - d_y_d_chi_t * d2_f_d_ag2 * d_y_d_chi_t) \n",
    "    else:\n",
    "        _lambda = 0\n",
    "                \n",
    "    d_alpha_e = _lambda * d_y_d_chi_s\n",
    "    d_alpha_g = _lambda * d_y_d_chi_t\n",
    "        \n",
    "    d_sigma = (d2_f_d_e2 * d_epsilon + d2_f_d_eae * d_alpha_e )\n",
    "    d_tau = (d2_f_d_g2 * d_gamma + d2_f_d_gag * d_alpha_g )\n",
    "    \n",
    "    d_chi_s = - (d2_f_d_aee * d_epsilon + d2_f_d_ae2 * d_alpha_e)\n",
    "    d_chi_t = - (d2_f_d_agg * d_gamma + d2_f_d_ag2 * d_alpha_g)\n",
    "        \n",
    "    sigma = sigma + d_sigma\n",
    "    tau = tau + d_tau\n",
    "    chi_s = chi_s + d_chi_s\n",
    "    chi_t = chi_t + d_chi_t\n",
    "    alpha_e = alpha_e + d_alpha_e\n",
    "    alpha_g = alpha_g + d_alpha_g\n",
    "    \n",
    "    epsilon_0 = epsilon\n",
    "    gamma_0 = gamma\n",
    "            \n",
    "    sigma_history[index] = sigma\n",
    "    tau_history[index] = tau"
   ]
  },
  {
   "cell_type": "code",
   "execution_count": 2,
   "metadata": {
    "scrolled": false
   },
   "outputs": [
    {
     "data": {
      "text/plain": [
       "Text(0,0.5,'$\\\\tau$')"
      ]
     },
     "execution_count": 2,
     "metadata": {},
     "output_type": "execute_result"
    },
    {
     "data": {
      "image/png": "[encoded data removed]",
      "text/plain": [
       "<matplotlib.figure.Figure at 0x10d883978>"
      ]
     },
     "metadata": {},
     "output_type": "display_data"
    }
   ],
   "source": [
    "plt.plot(sigma_history, tau_history)\n",
    "plt.plot(sigma_history, (mu+beta)*sigma_history , 'r--')\n",
    "plt.plot(sigma_history,-(mu+beta)*sigma_history , 'r--')\n",
    "plt.xlabel('$\\\\sigma$')\n",
    "plt.ylabel('$\\\\tau$')"
   ]
  }
 ],
 "metadata": {
  "kernelspec": {
   "display_name": "Python 3",
   "language": "python",
   "name": "python3"
  },
  "language_info": {
   "codemirror_mode": {
    "name": "ipython",
    "version": 3
   },
   "file_extension": ".py",
   "mimetype": "text/x-python",
   "name": "python",
   "nbconvert_exporter": "python",
   "pygments_lexer": "ipython3",
   "version": "3.6.3"
  }
 },
 "nbformat": 4,
 "nbformat_minor": 2
}
